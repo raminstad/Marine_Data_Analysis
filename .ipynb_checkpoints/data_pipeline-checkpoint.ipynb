{
 "cells": [
  {
   "cell_type": "code",
   "execution_count": 1,
   "id": "03585630",
   "metadata": {},
   "outputs": [],
   "source": [
    "import pandas as pd\n",
    "import numpy as np\n",
    "from os import listdir\n",
    "from os.path import isfile, join\n",
    "import warnings\n",
    "from functools import partial, reduce\n",
    "import regex as re\n",
    "warnings.filterwarnings('ignore')\n",
    "path='/Users/raminstad/Downloads/Tools1/Final/acre_marine_data/Marine data'"
   ]
  },
  {
   "cell_type": "code",
   "execution_count": 2,
   "id": "ac77e9d5",
   "metadata": {},
   "outputs": [],
   "source": [
    "files = [f for f in listdir(path) if isfile(join(path, f))]\n",
    "files.remove('.DS_Store')\n",
    "files.remove('~$ACEH, INDONESIA - NOVEMBER 1874 - JULY 1875.xlsx')\n",
    "files.remove('MACAO HURRICANE(5-6 AUGUST 1835).xls')\n"
   ]
  },
  {
   "cell_type": "code",
   "execution_count": 3,
   "id": "9f380e79",
   "metadata": {},
   "outputs": [],
   "source": [
    "one=[]\n",
    "two=[]\n",
    "three=[]\n",
    "four=[]\n",
    "five=[]\n",
    "\n",
    "for i in files:\n",
    "    \n",
    "    xlsx=pd.ExcelFile(f'{path}/{str(i)}')\n",
    "    sheets=xlsx.sheet_names\n",
    "    if len(sheets)==1:\n",
    "        one.append(i)\n",
    "    \n",
    "    elif len(sheets)==2:\n",
    "        two.append([i,sheets])\n",
    "        \n",
    "    elif len(sheets)==3:\n",
    "        three.append([i,sheets])\n",
    "    \n",
    "    elif len(sheets)==4:\n",
    "        four.append([i,sheets])\n",
    "\n",
    "    elif len(sheets)==5:\n",
    "        five.append([i,sheets])\n",
    "        \n",
    "    \n",
    "dfOne=[]\n",
    "for i in range(len(one)):    \n",
    "    dfOne.append(pd.read_excel(f'{path}/{one[i]}'))\n",
    "\n",
    "\n",
    "dfTwo=[]\n",
    "for i in range(len(two)):    \n",
    "    dfTwo.append(pd.read_excel(f'{path}/{two[i][0]}',sheet_name=two[i][1][0]))\n",
    "    dfTwo.append(pd.read_excel(f'{path}/{two[i][0]}',sheet_name=two[i][1][1]))    \n",
    "\n",
    "\n",
    "dfThree=[]\n",
    "for i in range(len(three)):    \n",
    "    dfThree.append(pd.read_excel(f'{path}/{three[i][0]}',sheet_name=three[i][1][0]))\n",
    "    dfThree.append(pd.read_excel(f'{path}/{three[i][0]}',sheet_name=three[i][1][1]))\n",
    "    dfThree.append(pd.read_excel(f'{path}/{three[i][0]}',sheet_name=three[i][1][2]))\n",
    "    \n",
    "\n",
    "\n",
    "dfFour=[]\n",
    "for i in range(len(four)):    \n",
    "    dfFour.append(pd.read_excel(f'{path}/{four[i][0]}',sheet_name=four[i][1][0]))\n",
    "    dfFour.append(pd.read_excel(f'{path}/{four[i][0]}',sheet_name=four[i][1][1]))\n",
    "    dfFour.append(pd.read_excel(f'{path}/{four[i][0]}',sheet_name=four[i][1][2]))\n",
    "    dfFour.append(pd.read_excel(f'{path}/{four[i][0]}',sheet_name=four[i][1][3]))\n",
    "    \n",
    "\n",
    "dfFive=[]\n",
    "for i in range(len(five)):    \n",
    "    dfFive.append(pd.read_excel(f'{path}/{five[i][0]}',sheet_name=five[i][1][0]))\n",
    "    dfFive.append(pd.read_excel(f'{path}/{five[i][0]}',sheet_name=five[i][1][1]))\n",
    "    dfFive.append(pd.read_excel(f'{path}/{five[i][0]}',sheet_name=five[i][1][2]))\n",
    "    dfFive.append(pd.read_excel(f'{path}/{five[i][0]}',sheet_name=five[i][1][3]))\n",
    "    dfFive.append(pd.read_excel(f'{path}/{five[i][0]}',sheet_name=five[i][1][4]))\n",
    "    \n"
   ]
  },
  {
   "cell_type": "code",
   "execution_count": 4,
   "id": "7ec9143f",
   "metadata": {},
   "outputs": [
    {
     "data": {
      "text/plain": [
       "210"
      ]
     },
     "execution_count": 4,
     "metadata": {},
     "output_type": "execute_result"
    }
   ],
   "source": [
    "len(dfOne)+len(dfTwo)+len(dfThree)+len(dfFour)+len(dfFive)"
   ]
  },
  {
   "cell_type": "code",
   "execution_count": 5,
   "id": "325467dd",
   "metadata": {},
   "outputs": [],
   "source": [
    "def NoZero(lsts):\n",
    "    lst=[]\n",
    "    for i in lsts:\n",
    "        if len(i)>0:\n",
    "            lst.append(i)\n",
    "    return lst     "
   ]
  },
  {
   "cell_type": "code",
   "execution_count": 6,
   "id": "75f6316c",
   "metadata": {},
   "outputs": [],
   "source": [
    "one=NoZero(dfOne)\n",
    "two=NoZero(dfTwo)\n",
    "three=NoZero(dfThree)\n",
    "four=NoZero(dfFour)\n",
    "five=NoZero(dfFive)"
   ]
  },
  {
   "cell_type": "code",
   "execution_count": 7,
   "id": "4f5998ed",
   "metadata": {},
   "outputs": [
    {
     "data": {
      "text/plain": [
       "143"
      ]
     },
     "execution_count": 7,
     "metadata": {},
     "output_type": "execute_result"
    }
   ],
   "source": [
    "len(one)+len(two)+len(three)+len(four)+len(five)"
   ]
  },
  {
   "cell_type": "code",
   "execution_count": 8,
   "id": "04227d2d",
   "metadata": {},
   "outputs": [],
   "source": [
    "for i in range(len(one)):\n",
    "    one[i]=one[i].rename(columns=one[i].iloc[2]).drop(one[i].index[2])\n",
    "    "
   ]
  },
  {
   "cell_type": "code",
   "execution_count": 9,
   "id": "8e2f45f8",
   "metadata": {},
   "outputs": [],
   "source": [
    "for i in range(len(two)):\n",
    "    two[i]=two[i].rename(columns=two[i].iloc[2]).drop(two[i].index[2])\n",
    "    "
   ]
  },
  {
   "cell_type": "code",
   "execution_count": 10,
   "id": "108b4a7b",
   "metadata": {},
   "outputs": [],
   "source": [
    "for i in range(len(three)):\n",
    "    three[i]=three[i].rename(columns=three[i].iloc[2]).drop(three[i].index[2])\n",
    "    \n"
   ]
  },
  {
   "cell_type": "code",
   "execution_count": 11,
   "id": "c337d924",
   "metadata": {},
   "outputs": [],
   "source": [
    "for i in range(len(four)):\n",
    "    four[i]=four[i].rename(columns=four[i].iloc[2]).drop(four[i].index[2])"
   ]
  },
  {
   "cell_type": "code",
   "execution_count": 12,
   "id": "1142df03",
   "metadata": {},
   "outputs": [],
   "source": [
    "for i in range(len(five)):\n",
    "    five[i]=five[i].rename(columns=five[i].iloc[2]).drop(five[i].index[2])"
   ]
  },
  {
   "cell_type": "code",
   "execution_count": 13,
   "id": "47bd6ea6",
   "metadata": {},
   "outputs": [
    {
     "data": {
      "text/html": [
       "<div>\n",
       "<style scoped>\n",
       "    .dataframe tbody tr th:only-of-type {\n",
       "        vertical-align: middle;\n",
       "    }\n",
       "\n",
       "    .dataframe tbody tr th {\n",
       "        vertical-align: top;\n",
       "    }\n",
       "\n",
       "    .dataframe thead th {\n",
       "        text-align: right;\n",
       "    }\n",
       "</style>\n",
       "<table border=\"1\" class=\"dataframe\">\n",
       "  <thead>\n",
       "    <tr style=\"text-align: right;\">\n",
       "      <th></th>\n",
       "      <th>Pg. 383</th>\n",
       "      <th>SYDNEY, NEW SOUTH WALES.  OBS KEPT BY FREDERICK GOULDURN:</th>\n",
       "      <th>NaN</th>\n",
       "      <th>NaN</th>\n",
       "      <th>NaN</th>\n",
       "      <th>NaN</th>\n",
       "      <th>NaN</th>\n",
       "      <th>NaN</th>\n",
       "    </tr>\n",
       "  </thead>\n",
       "  <tbody>\n",
       "    <tr>\n",
       "      <th>0</th>\n",
       "      <td>NaN</td>\n",
       "      <td>GEOGRAPHICAL MEMOIRS ON NEW SOUTH WALES, EDITO...</td>\n",
       "      <td>NaN</td>\n",
       "      <td>NaN</td>\n",
       "      <td>NaN</td>\n",
       "      <td>NaN</td>\n",
       "      <td>NaN</td>\n",
       "      <td>NaN</td>\n",
       "    </tr>\n",
       "    <tr>\n",
       "      <th>1</th>\n",
       "      <td>NaN</td>\n",
       "      <td>NaN</td>\n",
       "      <td>NaN</td>\n",
       "      <td>NaN</td>\n",
       "      <td>NaN</td>\n",
       "      <td>NaN</td>\n",
       "      <td>NaN</td>\n",
       "      <td>NaN</td>\n",
       "    </tr>\n",
       "    <tr>\n",
       "      <th>2</th>\n",
       "      <td>NaN</td>\n",
       "      <td>NaN</td>\n",
       "      <td>NaN</td>\n",
       "      <td>NaN</td>\n",
       "      <td>NaN</td>\n",
       "      <td>NaN</td>\n",
       "      <td>NaN</td>\n",
       "      <td>NaN</td>\n",
       "    </tr>\n",
       "    <tr>\n",
       "      <th>3</th>\n",
       "      <td>YEAR</td>\n",
       "      <td>MONTH</td>\n",
       "      <td>DAY</td>\n",
       "      <td>HOUR</td>\n",
       "      <td>BAR</td>\n",
       "      <td>THERM</td>\n",
       "      <td>WIND</td>\n",
       "      <td>WEATHER</td>\n",
       "    </tr>\n",
       "    <tr>\n",
       "      <th>4</th>\n",
       "      <td>1821</td>\n",
       "      <td>5</td>\n",
       "      <td>1</td>\n",
       "      <td>600</td>\n",
       "      <td>30.29</td>\n",
       "      <td>63</td>\n",
       "      <td>W</td>\n",
       "      <td>NaN</td>\n",
       "    </tr>\n",
       "    <tr>\n",
       "      <th>...</th>\n",
       "      <td>...</td>\n",
       "      <td>...</td>\n",
       "      <td>...</td>\n",
       "      <td>...</td>\n",
       "      <td>...</td>\n",
       "      <td>...</td>\n",
       "      <td>...</td>\n",
       "      <td>...</td>\n",
       "    </tr>\n",
       "    <tr>\n",
       "      <th>1044</th>\n",
       "      <td>1823</td>\n",
       "      <td>3</td>\n",
       "      <td>Lowest</td>\n",
       "      <td>NaN</td>\n",
       "      <td>29.77</td>\n",
       "      <td>49.5</td>\n",
       "      <td>NaN</td>\n",
       "      <td>NaN</td>\n",
       "    </tr>\n",
       "    <tr>\n",
       "      <th>1045</th>\n",
       "      <td>1823</td>\n",
       "      <td>3</td>\n",
       "      <td>Mean</td>\n",
       "      <td>NaN</td>\n",
       "      <td>30.15</td>\n",
       "      <td>60</td>\n",
       "      <td>NaN</td>\n",
       "      <td>NaN</td>\n",
       "    </tr>\n",
       "    <tr>\n",
       "      <th>1046</th>\n",
       "      <td>1823</td>\n",
       "      <td>4</td>\n",
       "      <td>Highest</td>\n",
       "      <td>NaN</td>\n",
       "      <td>30.44</td>\n",
       "      <td>74</td>\n",
       "      <td>NaN</td>\n",
       "      <td>NaN</td>\n",
       "    </tr>\n",
       "    <tr>\n",
       "      <th>1047</th>\n",
       "      <td>1823</td>\n",
       "      <td>4</td>\n",
       "      <td>Lowest</td>\n",
       "      <td>NaN</td>\n",
       "      <td>29.6</td>\n",
       "      <td>40</td>\n",
       "      <td>NaN</td>\n",
       "      <td>NaN</td>\n",
       "    </tr>\n",
       "    <tr>\n",
       "      <th>1048</th>\n",
       "      <td>1823</td>\n",
       "      <td>4</td>\n",
       "      <td>Mean</td>\n",
       "      <td>NaN</td>\n",
       "      <td>30.05</td>\n",
       "      <td>59</td>\n",
       "      <td>NaN</td>\n",
       "      <td>NaN</td>\n",
       "    </tr>\n",
       "  </tbody>\n",
       "</table>\n",
       "<p>1049 rows × 8 columns</p>\n",
       "</div>"
      ],
      "text/plain": [
       "     Pg. 383 SYDNEY, NEW SOUTH WALES.  OBS KEPT BY FREDERICK GOULDURN:  \\\n",
       "0        NaN  GEOGRAPHICAL MEMOIRS ON NEW SOUTH WALES, EDITO...          \n",
       "1        NaN                                                NaN          \n",
       "2        NaN                                                NaN          \n",
       "3       YEAR                                              MONTH          \n",
       "4       1821                                                  5          \n",
       "...      ...                                                ...          \n",
       "1044    1823                                                  3          \n",
       "1045    1823                                                  3          \n",
       "1046    1823                                                  4          \n",
       "1047    1823                                                  4          \n",
       "1048    1823                                                  4          \n",
       "\n",
       "          NaN   NaN    NaN    NaN   NaN      NaN  \n",
       "0         NaN   NaN    NaN    NaN   NaN      NaN  \n",
       "1         NaN   NaN    NaN    NaN   NaN      NaN  \n",
       "2         NaN   NaN    NaN    NaN   NaN      NaN  \n",
       "3         DAY  HOUR    BAR  THERM  WIND  WEATHER  \n",
       "4           1   600  30.29     63     W      NaN  \n",
       "...       ...   ...    ...    ...   ...      ...  \n",
       "1044   Lowest   NaN  29.77   49.5   NaN      NaN  \n",
       "1045     Mean   NaN  30.15     60   NaN      NaN  \n",
       "1046  Highest   NaN  30.44     74   NaN      NaN  \n",
       "1047   Lowest   NaN   29.6     40   NaN      NaN  \n",
       "1048     Mean   NaN  30.05     59   NaN      NaN  \n",
       "\n",
       "[1049 rows x 8 columns]"
      ]
     },
     "execution_count": 13,
     "metadata": {},
     "output_type": "execute_result"
    }
   ],
   "source": [
    "two[0].reset_index(drop=True)"
   ]
  },
  {
   "cell_type": "code",
   "execution_count": 14,
   "id": "74644b58",
   "metadata": {},
   "outputs": [],
   "source": [
    "two[0],two[0].columns=two[0][4:],two[0].iloc[3]"
   ]
  },
  {
   "cell_type": "code",
   "execution_count": 15,
   "id": "8b49ea0b",
   "metadata": {},
   "outputs": [
    {
     "data": {
      "text/html": [
       "<div>\n",
       "<style scoped>\n",
       "    .dataframe tbody tr th:only-of-type {\n",
       "        vertical-align: middle;\n",
       "    }\n",
       "\n",
       "    .dataframe tbody tr th {\n",
       "        vertical-align: top;\n",
       "    }\n",
       "\n",
       "    .dataframe thead th {\n",
       "        text-align: right;\n",
       "    }\n",
       "</style>\n",
       "<table border=\"1\" class=\"dataframe\">\n",
       "  <thead>\n",
       "    <tr style=\"text-align: right;\">\n",
       "      <th></th>\n",
       "      <th>NaT</th>\n",
       "      <th>NaT</th>\n",
       "      <th>NaT</th>\n",
       "      <th>NaT</th>\n",
       "      <th>NaT</th>\n",
       "      <th>NaT</th>\n",
       "      <th>NaT</th>\n",
       "      <th>NaT</th>\n",
       "      <th>NaT</th>\n",
       "      <th>NaT</th>\n",
       "      <th>NaT</th>\n",
       "      <th>NaT</th>\n",
       "      <th>NaT</th>\n",
       "      <th>NaT</th>\n",
       "      <th>NaT</th>\n",
       "      <th>NaT</th>\n",
       "      <th>NaT</th>\n",
       "      <th>NaT</th>\n",
       "    </tr>\n",
       "  </thead>\n",
       "  <tbody>\n",
       "    <tr>\n",
       "      <th>0</th>\n",
       "      <td>NaN</td>\n",
       "      <td>CAPE COAST CASTLE, GHANA, APRIL 1840 TO FEBRUA...</td>\n",
       "      <td>NaN</td>\n",
       "      <td>NaT</td>\n",
       "      <td>NaN</td>\n",
       "      <td>NaN</td>\n",
       "      <td>NaN</td>\n",
       "      <td>NaN</td>\n",
       "      <td>LATITUDE:</td>\n",
       "      <td>5.16.13 N</td>\n",
       "      <td>NaN</td>\n",
       "      <td>NaN</td>\n",
       "      <td>NaN</td>\n",
       "      <td>NaN</td>\n",
       "      <td>NaN</td>\n",
       "      <td>NaN</td>\n",
       "      <td>NaN</td>\n",
       "      <td>NaN</td>\n",
       "    </tr>\n",
       "    <tr>\n",
       "      <th>1</th>\n",
       "      <td>NaN</td>\n",
       "      <td>NaN</td>\n",
       "      <td>NaN</td>\n",
       "      <td>NaT</td>\n",
       "      <td>NaN</td>\n",
       "      <td>NaN</td>\n",
       "      <td>NaN</td>\n",
       "      <td>NaN</td>\n",
       "      <td>LONGITUDE:</td>\n",
       "      <td>1.14.28 W</td>\n",
       "      <td>NaN</td>\n",
       "      <td>NaN</td>\n",
       "      <td>NaN</td>\n",
       "      <td>NaN</td>\n",
       "      <td>NaN</td>\n",
       "      <td>NaN</td>\n",
       "      <td>NaN</td>\n",
       "      <td>NaN</td>\n",
       "    </tr>\n",
       "    <tr>\n",
       "      <th>2</th>\n",
       "      <td>YEAR</td>\n",
       "      <td>MONTH</td>\n",
       "      <td>DAY</td>\n",
       "      <td>NaT</td>\n",
       "      <td>BAROMETER</td>\n",
       "      <td>NaN</td>\n",
       "      <td>ATTACHED</td>\n",
       "      <td>BAROMETER</td>\n",
       "      <td>NaN</td>\n",
       "      <td>ATTACHED</td>\n",
       "      <td>NaN</td>\n",
       "      <td>DIFFERENCE</td>\n",
       "      <td>EXTERNAL THERMOMETERS</td>\n",
       "      <td>NaN</td>\n",
       "      <td>NaN</td>\n",
       "      <td>NaN</td>\n",
       "      <td>NaN</td>\n",
       "      <td>NaN</td>\n",
       "    </tr>\n",
       "    <tr>\n",
       "      <th>3</th>\n",
       "      <td>NaN</td>\n",
       "      <td>NaN</td>\n",
       "      <td>NaN</td>\n",
       "      <td>NaT</td>\n",
       "      <td>(UNCORRECTED)</td>\n",
       "      <td>NaN</td>\n",
       "      <td>THERMOMETER</td>\n",
       "      <td>(UNCORRECTED)</td>\n",
       "      <td>NaN</td>\n",
       "      <td>THERMOMETER</td>\n",
       "      <td>NaN</td>\n",
       "      <td>OF WET</td>\n",
       "      <td>NaN</td>\n",
       "      <td>NaN</td>\n",
       "      <td>NaN</td>\n",
       "      <td>NaN</td>\n",
       "      <td>(INCHES)</td>\n",
       "      <td>NaN</td>\n",
       "    </tr>\n",
       "    <tr>\n",
       "      <th>4</th>\n",
       "      <td>NaN</td>\n",
       "      <td>NaN</td>\n",
       "      <td>NaN</td>\n",
       "      <td>NaT</td>\n",
       "      <td>FLINT GLASS 9 A.M.</td>\n",
       "      <td>CROWN GLASS 9A.M.</td>\n",
       "      <td>9A.M.</td>\n",
       "      <td>FLINT GLASS 3 P.M.</td>\n",
       "      <td>CROWN GLASS 3 P.M.</td>\n",
       "      <td>3 P.M.</td>\n",
       "      <td>DEW POINT 9 A.M.</td>\n",
       "      <td>AND DRY</td>\n",
       "      <td>THERMOMETER 9A.M.</td>\n",
       "      <td>THERMOMETER 3 P.M.</td>\n",
       "      <td>SELF-REGISTERING LOWEST</td>\n",
       "      <td>SELF-REGISTERING HIGHEST</td>\n",
       "      <td>RAINFALL 9 A.M.</td>\n",
       "      <td>SYMPIESOMETER</td>\n",
       "    </tr>\n",
       "    <tr>\n",
       "      <th>...</th>\n",
       "      <td>...</td>\n",
       "      <td>...</td>\n",
       "      <td>...</td>\n",
       "      <td>...</td>\n",
       "      <td>...</td>\n",
       "      <td>...</td>\n",
       "      <td>...</td>\n",
       "      <td>...</td>\n",
       "      <td>...</td>\n",
       "      <td>...</td>\n",
       "      <td>...</td>\n",
       "      <td>...</td>\n",
       "      <td>...</td>\n",
       "      <td>...</td>\n",
       "      <td>...</td>\n",
       "      <td>...</td>\n",
       "      <td>...</td>\n",
       "      <td>...</td>\n",
       "    </tr>\n",
       "    <tr>\n",
       "      <th>334</th>\n",
       "      <td>1841</td>\n",
       "      <td>2</td>\n",
       "      <td>24</td>\n",
       "      <td>1941-02-24</td>\n",
       "      <td>29.95</td>\n",
       "      <td>29.778</td>\n",
       "      <td>81.3</td>\n",
       "      <td>29.868</td>\n",
       "      <td>29.688</td>\n",
       "      <td>83.4</td>\n",
       "      <td>NaN</td>\n",
       "      <td>NaN</td>\n",
       "      <td>80.2</td>\n",
       "      <td>82.8</td>\n",
       "      <td>75.4</td>\n",
       "      <td>82.1</td>\n",
       "      <td>NaN</td>\n",
       "      <td>29.29</td>\n",
       "    </tr>\n",
       "    <tr>\n",
       "      <th>335</th>\n",
       "      <td>1841</td>\n",
       "      <td>2</td>\n",
       "      <td>25</td>\n",
       "      <td>1941-02-25</td>\n",
       "      <td>29.928</td>\n",
       "      <td>29.737</td>\n",
       "      <td>81.6</td>\n",
       "      <td>29.865</td>\n",
       "      <td>29.677</td>\n",
       "      <td>84.2</td>\n",
       "      <td>NaN</td>\n",
       "      <td>NaN</td>\n",
       "      <td>80.1</td>\n",
       "      <td>84.3</td>\n",
       "      <td>76.2</td>\n",
       "      <td>83.2</td>\n",
       "      <td>NaN</td>\n",
       "      <td>29.25</td>\n",
       "    </tr>\n",
       "    <tr>\n",
       "      <th>336</th>\n",
       "      <td>1841</td>\n",
       "      <td>2</td>\n",
       "      <td>26</td>\n",
       "      <td>1941-02-26</td>\n",
       "      <td>29.9</td>\n",
       "      <td>29.72</td>\n",
       "      <td>81.5</td>\n",
       "      <td>29.87</td>\n",
       "      <td>29.674</td>\n",
       "      <td>84.3</td>\n",
       "      <td>NaN</td>\n",
       "      <td>NaN</td>\n",
       "      <td>80.4</td>\n",
       "      <td>83.6</td>\n",
       "      <td>76.3</td>\n",
       "      <td>83.3</td>\n",
       "      <td>NaN</td>\n",
       "      <td>29.32</td>\n",
       "    </tr>\n",
       "    <tr>\n",
       "      <th>337</th>\n",
       "      <td>1841</td>\n",
       "      <td>2</td>\n",
       "      <td>27</td>\n",
       "      <td>1941-02-27</td>\n",
       "      <td>29.868</td>\n",
       "      <td>29.677</td>\n",
       "      <td>81.3</td>\n",
       "      <td>29.836</td>\n",
       "      <td>29.65</td>\n",
       "      <td>82.6</td>\n",
       "      <td>NaN</td>\n",
       "      <td>NaN</td>\n",
       "      <td>80.3</td>\n",
       "      <td>82.1</td>\n",
       "      <td>76.2</td>\n",
       "      <td>81.2</td>\n",
       "      <td>NaN</td>\n",
       "      <td>29.318</td>\n",
       "    </tr>\n",
       "    <tr>\n",
       "      <th>338</th>\n",
       "      <td>1841</td>\n",
       "      <td>2</td>\n",
       "      <td>28</td>\n",
       "      <td>1941-02-28</td>\n",
       "      <td>29.897</td>\n",
       "      <td>29.7</td>\n",
       "      <td>80.5</td>\n",
       "      <td>29.85</td>\n",
       "      <td>29.665</td>\n",
       "      <td>82.7</td>\n",
       "      <td>NaN</td>\n",
       "      <td>NaN</td>\n",
       "      <td>78.3</td>\n",
       "      <td>83</td>\n",
       "      <td>75.2</td>\n",
       "      <td>82</td>\n",
       "      <td>NaN</td>\n",
       "      <td>29.23</td>\n",
       "    </tr>\n",
       "  </tbody>\n",
       "</table>\n",
       "<p>339 rows × 18 columns</p>\n",
       "</div>"
      ],
      "text/plain": [
       "      NaT                                                NaT  NaT        NaT  \\\n",
       "0     NaN  CAPE COAST CASTLE, GHANA, APRIL 1840 TO FEBRUA...  NaN        NaT   \n",
       "1     NaN                                                NaN  NaN        NaT   \n",
       "2    YEAR                                              MONTH  DAY        NaT   \n",
       "3     NaN                                                NaN  NaN        NaT   \n",
       "4     NaN                                                NaN  NaN        NaT   \n",
       "..    ...                                                ...  ...        ...   \n",
       "334  1841                                                  2   24 1941-02-24   \n",
       "335  1841                                                  2   25 1941-02-25   \n",
       "336  1841                                                  2   26 1941-02-26   \n",
       "337  1841                                                  2   27 1941-02-27   \n",
       "338  1841                                                  2   28 1941-02-28   \n",
       "\n",
       "                    NaT                NaT          NaT                 NaT  \\\n",
       "0                   NaN                NaN          NaN                 NaN   \n",
       "1                   NaN                NaN          NaN                 NaN   \n",
       "2             BAROMETER                NaN     ATTACHED           BAROMETER   \n",
       "3         (UNCORRECTED)                NaN  THERMOMETER       (UNCORRECTED)   \n",
       "4    FLINT GLASS 9 A.M.  CROWN GLASS 9A.M.        9A.M.  FLINT GLASS 3 P.M.   \n",
       "..                  ...                ...          ...                 ...   \n",
       "334               29.95             29.778         81.3              29.868   \n",
       "335              29.928             29.737         81.6              29.865   \n",
       "336                29.9              29.72         81.5               29.87   \n",
       "337              29.868             29.677         81.3              29.836   \n",
       "338              29.897               29.7         80.5               29.85   \n",
       "\n",
       "                    NaT          NaT               NaT          NaT  \\\n",
       "0             LATITUDE:    5.16.13 N               NaN          NaN   \n",
       "1            LONGITUDE:    1.14.28 W               NaN          NaN   \n",
       "2                   NaN     ATTACHED               NaN  DIFFERENCE    \n",
       "3                   NaN  THERMOMETER               NaN      OF WET    \n",
       "4    CROWN GLASS 3 P.M.       3 P.M.  DEW POINT 9 A.M.      AND DRY   \n",
       "..                  ...          ...               ...          ...   \n",
       "334              29.688         83.4               NaN          NaN   \n",
       "335              29.677         84.2               NaN          NaN   \n",
       "336              29.674         84.3               NaN          NaN   \n",
       "337               29.65         82.6               NaN          NaN   \n",
       "338              29.665         82.7               NaN          NaN   \n",
       "\n",
       "                       NaT                 NaT                      NaT  \\\n",
       "0                      NaN                 NaN                      NaN   \n",
       "1                      NaN                 NaN                      NaN   \n",
       "2    EXTERNAL THERMOMETERS                 NaN                      NaN   \n",
       "3                      NaN                 NaN                      NaN   \n",
       "4       THERMOMETER 9A.M.   THERMOMETER 3 P.M.  SELF-REGISTERING LOWEST   \n",
       "..                     ...                 ...                      ...   \n",
       "334                   80.2                82.8                     75.4   \n",
       "335                   80.1                84.3                     76.2   \n",
       "336                   80.4                83.6                     76.3   \n",
       "337                   80.3                82.1                     76.2   \n",
       "338                   78.3                  83                     75.2   \n",
       "\n",
       "                          NaT              NaT            NaT  \n",
       "0                         NaN              NaN            NaN  \n",
       "1                         NaN              NaN            NaN  \n",
       "2                         NaN              NaN            NaN  \n",
       "3                         NaN         (INCHES)            NaN  \n",
       "4    SELF-REGISTERING HIGHEST  RAINFALL 9 A.M.  SYMPIESOMETER  \n",
       "..                        ...              ...            ...  \n",
       "334                      82.1              NaN          29.29  \n",
       "335                      83.2              NaN          29.25  \n",
       "336                      83.3              NaN          29.32  \n",
       "337                      81.2              NaN         29.318  \n",
       "338                        82              NaN          29.23  \n",
       "\n",
       "[339 rows x 18 columns]"
      ]
     },
     "execution_count": 15,
     "metadata": {},
     "output_type": "execute_result"
    }
   ],
   "source": [
    "two[16].reset_index(drop=True)"
   ]
  },
  {
   "cell_type": "code",
   "execution_count": 16,
   "id": "bcb80339",
   "metadata": {},
   "outputs": [],
   "source": [
    "two[16],two[16].columns=two[16][3:],two[16].iloc[2]"
   ]
  },
  {
   "cell_type": "code",
   "execution_count": 17,
   "id": "c1be945e",
   "metadata": {},
   "outputs": [],
   "source": [
    "def lstshrink(lsts):\n",
    "    lst=[]\n",
    "    for i in lsts:\n",
    "        if len(i)>26:\n",
    "            lst.append(i)\n",
    "    return lst"
   ]
  },
  {
   "cell_type": "code",
   "execution_count": 18,
   "id": "499d5a3e",
   "metadata": {},
   "outputs": [],
   "source": [
    "one=lstshrink(one)\n",
    "two=lstshrink(two)\n",
    "three=lstshrink(three)\n",
    "four=lstshrink(four)\n",
    "five=lstshrink(five)"
   ]
  },
  {
   "cell_type": "code",
   "execution_count": 19,
   "id": "328f02ed",
   "metadata": {},
   "outputs": [],
   "source": [
    "comp=one+two+three+four+five\n"
   ]
  },
  {
   "cell_type": "code",
   "execution_count": 20,
   "id": "610aa67f",
   "metadata": {},
   "outputs": [],
   "source": [
    "for i in range(len(comp)):\n",
    "    comp[i].reset_index(inplace=True, drop=True)"
   ]
  },
  {
   "cell_type": "code",
   "execution_count": 21,
   "id": "ab2942a3",
   "metadata": {},
   "outputs": [],
   "source": [
    "def remove_dup_col(frame):\n",
    "    names = set()\n",
    "    icols = list()\n",
    "    for icol, name in enumerate(frame.columns):\n",
    "        if name not in names:\n",
    "            names.add(name)\n",
    "            icols.append(icol)\n",
    "    frame=frame.iloc[:, icols]\n",
    "    return frame\n"
   ]
  },
  {
   "cell_type": "code",
   "execution_count": 22,
   "id": "09fedb9d",
   "metadata": {},
   "outputs": [],
   "source": [
    "for i in range(len(comp)):\n",
    "    comp[i]=remove_dup_col(comp[i])"
   ]
  },
  {
   "cell_type": "code",
   "execution_count": 23,
   "id": "1c647899",
   "metadata": {},
   "outputs": [],
   "source": [
    "def uniq_cols(frame):\n",
    "    t=[]\n",
    "    for i in range(len(frame)):\n",
    "        t.append(frame[i].columns)\n",
    "    r=set()   \n",
    "    for j in t:\n",
    "        for k in j:\n",
    "            r.add(k)\n",
    "\n",
    "    l=[]\n",
    "    cols=[]\n",
    "    for g in r:\n",
    "        l.append(g)\n",
    "\n",
    "    for h in l:\n",
    "        if type(h)==str:\n",
    "            cols.append(h)\n",
    "    return cols\n",
    "        "
   ]
  },
  {
   "cell_type": "markdown",
   "id": "af8d4517",
   "metadata": {},
   "source": [
    "# BAROMETER"
   ]
  },
  {
   "cell_type": "code",
   "execution_count": 24,
   "id": "438e4e55",
   "metadata": {},
   "outputs": [],
   "source": [
    "\"\"\"\n",
    "By calling this cell everytime you modify a column the variable barometer will be updated\n",
    "and you can see which columns are left to be modified\n",
    "\"\"\"\n",
    "\n",
    "column=uniq_cols(comp)\n",
    "column.sort()\n",
    "r = re.compile(\"BAR*\")\n",
    "barometer = list(filter(r.match, column)) "
   ]
  },
  {
   "cell_type": "code",
   "execution_count": 25,
   "id": "f92693ea",
   "metadata": {},
   "outputs": [
    {
     "data": {
      "text/plain": [
       "['BAR',\n",
       " 'BAR.',\n",
       " 'BAR. (PARIS LINES)',\n",
       " 'BAROMETER',\n",
       " 'BAROMETER ',\n",
       " 'BAROMETER (INCHES)',\n",
       " 'BAROMETER (INCHES) 15h',\n",
       " 'BAROMETER (INCHES) 9h',\n",
       " 'BAROMETER (UNCORRECTED)',\n",
       " 'BAROMETER (inches)',\n",
       " 'BAROMETER (mm)',\n",
       " 'BAROMETER 10 A.M.',\n",
       " 'BAROMETER 10h',\n",
       " 'BAROMETER 16h',\n",
       " 'BAROMETER 22h',\n",
       " 'BAROMETER 3 P.M.',\n",
       " 'BAROMETER 9 A.M.',\n",
       " 'BAROMETER AT:',\n",
       " 'BAROMETER CORR.',\n",
       " 'BAROMETER RED. 0° C',\n",
       " 'BAROMETER RED. TO 0°C',\n",
       " 'BAROMETER REDUCED',\n",
       " 'BAROMETER(INCHES)',\n",
       " 'BAROMETER(MM)',\n",
       " 'BAROMETER(UNCORRECTED)',\n",
       " 'BAROMETER(mm)']"
      ]
     },
     "execution_count": 25,
     "metadata": {},
     "output_type": "execute_result"
    }
   ],
   "source": [
    "barometer"
   ]
  },
  {
   "cell_type": "code",
   "execution_count": 26,
   "id": "ceb2c6e3",
   "metadata": {},
   "outputs": [],
   "source": [
    "for h in range(len(comp)):\n",
    "    comp[h].dropna(axis=1,how='all',inplace=True)"
   ]
  },
  {
   "cell_type": "code",
   "execution_count": 27,
   "id": "0708282f",
   "metadata": {},
   "outputs": [],
   "source": [
    "for df in range(len(comp)):\n",
    "    if 'BAROMETER(mm)' in comp[df].columns:\n",
    "        comp[df]['BAROMETER']= comp[df]['BAROMETER(mm)'].apply(lambda x: x/25.4)\n",
    "        comp[df].drop('BAROMETER(mm)',axis=1, inplace=True)"
   ]
  },
  {
   "cell_type": "code",
   "execution_count": 28,
   "id": "15719126",
   "metadata": {},
   "outputs": [],
   "source": [
    "b=['BAROMETER','BAROMETER(INCHES)']\n",
    "for df in range(len(comp)):\n",
    "    if 'BAROMETER(MM)' and 'BAROMETER(INCHES)' in comp[df].columns:\n",
    "        comp[df]['BAROMETER']= comp[df]['BAROMETER(MM)'].apply(lambda x: x/25.4)\n",
    "        comp[df].drop('BAROMETER(MM)',axis=1, inplace=True)\n",
    "        comp[df]['BAROMETER'] = comp[df][b].apply(lambda row: ','.join(row.values.astype(str)), axis=1)\n",
    "        comp[df]['BAROMETER'] = comp[df]['BAROMETER'].apply(lambda x:x.split('nan'))\n",
    "        comp[df]['BAROMETER'] = comp[df]['BAROMETER'].apply(lambda x:x[0] if len (x[0])>0 else x[-1])\n",
    "        comp[df]['BAROMETER'] = comp[df]['BAROMETER'].apply(lambda x:x.strip(','))\n",
    "        comp[df].drop('BAROMETER(INCHES)',axis=1, inplace=True)"
   ]
  },
  {
   "cell_type": "code",
   "execution_count": 29,
   "id": "d672f583",
   "metadata": {},
   "outputs": [],
   "source": [
    "for df in range(len(comp)):\n",
    "    if 'BAROMETER (mm)' in comp[df].columns:\n",
    "        comp[df]['BAROMETER']= comp[df]['BAROMETER (mm)'].apply(lambda x: x/25.4)\n",
    "        comp[df].drop('BAROMETER (mm)',axis=1, inplace=True)"
   ]
  },
  {
   "cell_type": "code",
   "execution_count": 30,
   "id": "0a1b6da7",
   "metadata": {},
   "outputs": [],
   "source": [
    "comp[87].drop('BAROMETER (inches)',axis=1, inplace=True)"
   ]
  },
  {
   "cell_type": "code",
   "execution_count": 31,
   "id": "ef515284",
   "metadata": {},
   "outputs": [],
   "source": [
    "column=uniq_cols(comp)\n",
    "column.sort()\n",
    "r = re.compile(\"BAR*\")\n",
    "barometer = list(filter(r.match, column)) "
   ]
  },
  {
   "cell_type": "code",
   "execution_count": 32,
   "id": "312a5872",
   "metadata": {},
   "outputs": [],
   "source": [
    "for df in range(len(comp)):\n",
    "    if 'BAR' in comp[df].columns:\n",
    "        comp[df].rename(columns={'BAR': 'BAROMETER'}, inplace=True)\n",
    "        \n",
    "    elif 'BAR.' in comp[df].columns:\n",
    "        comp[df].rename(columns={'BAR.': 'BAROMETER'}, inplace=True)\n",
    "        \n",
    "        \n",
    "    elif 'BAR. (PARIS LINES)' in comp[df].columns:\n",
    "        comp[df].rename(columns={'BAR. (PARIS LINES)': 'BAROMETER'}, inplace=True)\n",
    "        \n",
    "        \n",
    "    elif 'BAROMETER ' in comp[df].columns:\n",
    "        comp[df].rename(columns={'BAROMETER ': 'BAROMETER'}, inplace=True)\n",
    "        \n",
    "        \n",
    "    elif 'BAROMETER (INCHES)' in comp[df].columns:\n",
    "        comp[df].rename(columns={'BAROMETER (INCHES)': 'BAROMETER'}, inplace=True)\n",
    "        \n",
    "    \n",
    "    elif 'BAROMETER (UNCORRECTED)' in comp[df].columns:\n",
    "        comp[df].rename(columns={'BAROMETER (UNCORRECTED)': 'BAROMETER'}, inplace=True)\n",
    "        \n",
    "        "
   ]
  },
  {
   "cell_type": "code",
   "execution_count": 33,
   "id": "a3c01ed5",
   "metadata": {},
   "outputs": [],
   "source": [
    "column=uniq_cols(comp)\n",
    "column.sort()\n",
    "r = re.compile(\"BAR*\")\n",
    "barometer = list(filter(r.match, column)) "
   ]
  },
  {
   "cell_type": "code",
   "execution_count": 34,
   "id": "61542775",
   "metadata": {},
   "outputs": [],
   "source": [
    "for df in range(len(comp)):\n",
    "    if 'BAROMETER (INCHES) 9h' in comp[df].columns:\n",
    "        comp[df].rename(columns={'BAROMETER (INCHES) 9h': 'BAROMETER'}, inplace=True)\n",
    "        comp[df].drop('BAROMETER (INCHES) 15h',axis=1, inplace=True)"
   ]
  },
  {
   "cell_type": "code",
   "execution_count": 35,
   "id": "a4eba329",
   "metadata": {},
   "outputs": [],
   "source": [
    "column=uniq_cols(comp)\n",
    "column.sort()\n",
    "r = re.compile(\"BAR*\")\n",
    "barometer = list(filter(r.match, column)) "
   ]
  },
  {
   "cell_type": "code",
   "execution_count": 36,
   "id": "729da618",
   "metadata": {},
   "outputs": [],
   "source": [
    "for df in range(len(comp)):\n",
    "    if 'BAROMETER 10 A.M.' in comp[df].columns:\n",
    "        comp[df].rename(columns={'BAROMETER 10 A.M.': 'BAROMETER'}, inplace=True)\n",
    "        comp[df]['BAROMETER']=comp[df]['BAROMETER'].apply(lambda x: x/25.4)\n",
    "        comp[df].drop(' BAROMETER 4 P.M.',axis=1, inplace=True)"
   ]
  },
  {
   "cell_type": "code",
   "execution_count": 37,
   "id": "e6e19ca4",
   "metadata": {},
   "outputs": [],
   "source": [
    "column=uniq_cols(comp)\n",
    "column.sort()\n",
    "r = re.compile(\"BAR*\")\n",
    "barometer = list(filter(r.match, column))"
   ]
  },
  {
   "cell_type": "code",
   "execution_count": 38,
   "id": "8d5c6947",
   "metadata": {},
   "outputs": [],
   "source": [
    "for df in range(len(comp)):\n",
    "    if 'BAROMETER 10h' and 'BAROMETER 22h' in comp[df].columns:\n",
    "        if 'BAROMETER 16h' not in comp[df].columns:\n",
    "            comp[df]['BAROMETER']=comp[df][['BAROMETER 10h','BAROMETER 22h']].mean(axis=1)\n",
    "            comp[df].drop('BAROMETER 10h',axis=1, inplace=True)\n",
    "            comp[df].drop('BAROMETER 22h',axis=1, inplace=True)\n",
    "        else:\n",
    "            comp[df]['BAROMETER']=comp[df][['BAROMETER 10h','BAROMETER 22h','BAROMETER 16h']].mean(axis=1)\n",
    "            comp[df].drop('BAROMETER 10h',axis=1, inplace=True)\n",
    "            comp[df].drop('BAROMETER 22h',axis=1, inplace=True)\n",
    "            comp[df].drop('BAROMETER 16h',axis=1, inplace=True)"
   ]
  },
  {
   "cell_type": "code",
   "execution_count": 39,
   "id": "73c28e1a",
   "metadata": {},
   "outputs": [],
   "source": [
    "column=uniq_cols(comp)\n",
    "column.sort()\n",
    "r = re.compile(\"BAR*\")\n",
    "barometer = list(filter(r.match, column))"
   ]
  },
  {
   "cell_type": "code",
   "execution_count": 40,
   "id": "f25bf2ee",
   "metadata": {},
   "outputs": [],
   "source": [
    "for df in range(len(comp)):\n",
    "    if 'BAROMETER 9 A.M.' in comp[df].columns:\n",
    "        comp[df].drop('BAROMETER 9 A.M.',axis=1, inplace=True)\n",
    "        comp[df].drop('BAROMETER 3 P.M.',axis=1, inplace=True)\n",
    "        "
   ]
  },
  {
   "cell_type": "code",
   "execution_count": 41,
   "id": "d31bfb7d",
   "metadata": {},
   "outputs": [],
   "source": [
    "column=uniq_cols(comp)\n",
    "column.sort()\n",
    "r = re.compile(\"BAR*\")\n",
    "barometer = list(filter(r.match, column))"
   ]
  },
  {
   "cell_type": "code",
   "execution_count": 42,
   "id": "0ffc4b5b",
   "metadata": {},
   "outputs": [],
   "source": [
    "for df in range(len(comp)):\n",
    "    if 'BAROMETER AT:' in comp[df].columns:\n",
    "        comp[df].rename(columns={'BAROMETER AT:': 'BAROMETER'}, inplace=True)\n"
   ]
  },
  {
   "cell_type": "code",
   "execution_count": 43,
   "id": "137372f9",
   "metadata": {},
   "outputs": [],
   "source": [
    "column=uniq_cols(comp)\n",
    "column.sort()\n",
    "r = re.compile(\"BAR*\")\n",
    "barometer = list(filter(r.match, column))"
   ]
  },
  {
   "cell_type": "code",
   "execution_count": 44,
   "id": "b501d97a",
   "metadata": {},
   "outputs": [],
   "source": [
    "for df in range(len(comp)):\n",
    "    if 'BAROMETER CORR.' in comp[df].columns:\n",
    "        comp[df].rename(columns={'BAROMETER CORR.': 'BAROMETER'}, inplace=True)\n",
    "    \n",
    "    elif 'BAROMETER RED. 0° C' in comp[df].columns:\n",
    "        comp[df].rename(columns={'BAROMETER RED. 0° C': 'BAROMETER'}, inplace=True)\n",
    "        comp[df]['BAROMETER']=comp[df]['BAROMETER'].apply(lambda x: x/25.4)\n",
    "    \n",
    "    elif 'BAROMETER RED. TO 0°C' in comp[df].columns:\n",
    "        comp[df].rename(columns={'BAROMETER RED. TO 0°C': 'BAROMETER'}, inplace=True)\n",
    "        comp[df]['BAROMETER']=comp[df]['BAROMETER'].apply(lambda x: None if type(x)!= float else x)\n",
    "        comp[df]['BAROMETER']=comp[df]['BAROMETER'].apply(lambda x: x/25.4)\n",
    "    \n",
    "    elif 'BAROMETER REDUCED' in comp[df].columns:\n",
    "        if 'BAROMETER(UNCORRECTED)' not in comp[df].columns:\n",
    "            comp[df].drop('BAROMETER REDUCED',axis=1, inplace=True)\n",
    "        \n",
    "        elif 'BAROMETER(UNCORRECTED)' in comp[df].columns:\n",
    "            comp[df].rename(columns={'BAROMETER(UNCORRECTED)': 'BAROMETER'}, inplace=True)\n",
    "            comp[df].drop('BAROMETER REDUCED',axis=1, inplace=True)\n",
    "    \n",
    "    \n",
    "    \n",
    "    "
   ]
  },
  {
   "cell_type": "code",
   "execution_count": 45,
   "id": "ce45d4f6",
   "metadata": {},
   "outputs": [],
   "source": [
    "column=uniq_cols(comp)\n",
    "column.sort()\n",
    "r = re.compile(\"ANEROID*\")\n",
    "barometer = list(filter(r.match, column))"
   ]
  },
  {
   "cell_type": "code",
   "execution_count": 46,
   "id": "dc925b57",
   "metadata": {},
   "outputs": [],
   "source": [
    "for df in range(len(comp)):\n",
    "    if 'ANEROID BAROMETER' in comp[df].columns:\n",
    "        if df==26:\n",
    "            comp[df].rename(columns={'ANEROID BAROMETER': 'BAROMETER'}, inplace=True)\n",
    "            comp[df]['BAROMETER']=comp[df]['BAROMETER'].apply(lambda x: None if x>200 else x)\n",
    "        elif df==90:\n",
    "            comp[df].rename(columns={'ANEROID BAROMETER': 'BAROMETER'}, inplace=True)\n",
    "            comp[df]['BAROMETER']=comp[df]['BAROMETER'].apply(lambda x: None if type(x)!=float else x)"
   ]
  },
  {
   "cell_type": "code",
   "execution_count": 47,
   "id": "3fcf9d91",
   "metadata": {},
   "outputs": [],
   "source": [
    "column=uniq_cols(comp)\n",
    "column.sort()\n",
    "r = re.compile(\"ANEROID*\")\n",
    "barometer = list(filter(r.match, column))"
   ]
  },
  {
   "cell_type": "code",
   "execution_count": 48,
   "id": "403905fc",
   "metadata": {},
   "outputs": [],
   "source": [
    "for df in range(len(comp)):\n",
    "    if 'ANEROID BAROMETER A' in comp[df].columns:\n",
    "        comp[df].drop('SEA BAROMETER INCHES',axis=1, inplace=True)\n",
    "        comp[df].drop('SEA BAROMETER MM',axis=1, inplace=True)\n",
    "        comp[df].drop('SEA BAROMETER B',axis=1, inplace=True)\n",
    "        comp[df].drop('SEMPIESOMETER INCHES',axis=1, inplace=True)\n",
    "        comp[df].drop('SEMPIESOMETER MM',axis=1, inplace=True)\n",
    "        comp[df].rename(columns={'ANEROID BAROMETER A': 'BAROMETER'}, inplace=True)\n",
    "        comp[df]['BAROMETER']=comp[df]['BAROMETER'].apply(lambda x: x/25.4)"
   ]
  },
  {
   "cell_type": "code",
   "execution_count": 49,
   "id": "b45f46f7",
   "metadata": {},
   "outputs": [],
   "source": [
    "column=uniq_cols(comp)\n",
    "column.sort()\n",
    "r = re.compile(\"ANEROID*\")\n",
    "barometer = list(filter(r.match, column))"
   ]
  },
  {
   "cell_type": "code",
   "execution_count": 50,
   "id": "4f1f6711",
   "metadata": {},
   "outputs": [],
   "source": [
    "for df in range(len(comp)):\n",
    "    if 'ANEROID BAROMETER I' in comp[df].columns:\n",
    "        comp[df].drop('ANEROID BAROMETER I',axis=1, inplace=True)\n",
    "        comp[df].drop('ANEROID BAROMETER II',axis=1, inplace=True)"
   ]
  },
  {
   "cell_type": "code",
   "execution_count": 51,
   "id": "06203deb",
   "metadata": {},
   "outputs": [],
   "source": [
    "column=uniq_cols(comp)\n",
    "column.sort()\n",
    "r = re.compile(\"ANEROID*\")\n",
    "barometer = list(filter(r.match, column))"
   ]
  },
  {
   "cell_type": "code",
   "execution_count": 52,
   "id": "e49d16dc",
   "metadata": {},
   "outputs": [],
   "source": [
    "for df in range(len(comp)):\n",
    "    if \"SHIP'S BAROMETER\" in comp[df].columns:\n",
    "        comp[df].drop(\"SHIP'S BAROMETER\",axis=1, inplace=True)"
   ]
  },
  {
   "cell_type": "code",
   "execution_count": 53,
   "id": "a96a655d",
   "metadata": {},
   "outputs": [],
   "source": [
    "for df in range(len(comp)):\n",
    "    if \"MEAN BAROMETER\" in comp[df].columns:\n",
    "        comp[df].drop(\"MEAN BAROMETER\",axis=1, inplace=True)\n",
    "        "
   ]
  },
  {
   "cell_type": "code",
   "execution_count": 54,
   "id": "f4bbb71d",
   "metadata": {},
   "outputs": [],
   "source": [
    "for df in range(len(comp)):\n",
    "    if \"THERMOMETER of Barometer\" in comp[df].columns:\n",
    "        comp[df].drop(\"THERMOMETER of Barometer\",axis=1, inplace=True)"
   ]
  },
  {
   "cell_type": "code",
   "execution_count": 55,
   "id": "414d03e9",
   "metadata": {},
   "outputs": [],
   "source": [
    "for df in range(len(comp)):\n",
    "    if \"MERCURIAL BAROMETER\" in comp[df].columns:\n",
    "        comp[df].rename(columns={'MERCURIAL BAROMETER': 'BAROMETER'}, inplace=True)\n"
   ]
  },
  {
   "cell_type": "code",
   "execution_count": 56,
   "id": "c291218e",
   "metadata": {},
   "outputs": [],
   "source": [
    "for df in range(len(comp)):\n",
    "    if \"SEMPIESOMETER\" in comp[df].columns:\n",
    "        comp[df].rename(columns={'SEMPIESOMETER': 'BAROMETER'}, inplace=True)\n"
   ]
  },
  {
   "cell_type": "code",
   "execution_count": 57,
   "id": "6df208d5",
   "metadata": {},
   "outputs": [],
   "source": [
    "for df in range(len(comp)):\n",
    "    if \"SYMPESIOMETER\" in comp[df].columns:\n",
    "        comp[df].drop(\"SYMPESIOMETER\",axis=1, inplace=True)\n",
    "        "
   ]
  },
  {
   "cell_type": "code",
   "execution_count": 58,
   "id": "29d1b48a",
   "metadata": {},
   "outputs": [],
   "source": [
    "for df in range(len(comp)):\n",
    "    if \"SYMPIESOMETER\" in comp[df].columns:\n",
    "        if df==15:\n",
    "            comp[df].drop(\"SYMPIESOMETER\",axis=1, inplace=True)\n",
    "        else:\n",
    "            comp[df].rename(columns={'SYMPIESOMETER': 'BAROMETER'}, inplace=True)\n"
   ]
  },
  {
   "cell_type": "code",
   "execution_count": 59,
   "id": "a87461a4",
   "metadata": {},
   "outputs": [],
   "source": [
    "for df in range(len(comp)):\n",
    "    if \"SYMPIESOMETER PRESSURE\" in comp[df].columns:\n",
    "        comp[df].drop(\"SYMPIESOMETER PRESSURE\",axis=1, inplace=True)"
   ]
  },
  {
   "cell_type": "code",
   "execution_count": 60,
   "id": "5c8d2941",
   "metadata": {},
   "outputs": [],
   "source": [
    "comp[35].rename(columns={'HOUR': 'BAROMETER'}, inplace=True)\n",
    "\n"
   ]
  },
  {
   "cell_type": "code",
   "execution_count": 61,
   "id": "c647c1be",
   "metadata": {},
   "outputs": [],
   "source": [
    "comp[14].rename(columns={'6 A.M.': 'BAROMETER'}, inplace=True)\n",
    "comp[14].drop('12 P.M.',axis=1, inplace=True)\n",
    "comp[14].drop('5 P.M.',axis=1, inplace=True)"
   ]
  },
  {
   "cell_type": "code",
   "execution_count": 62,
   "id": "32840263",
   "metadata": {},
   "outputs": [],
   "source": [
    "for df in range(len(comp)):\n",
    "    if \"BAROMETER\"  not in comp[df].columns:\n",
    "        comp[df][\"BAROMETER\"]=np.NaN"
   ]
  },
  {
   "cell_type": "code",
   "execution_count": 63,
   "id": "e828eee3",
   "metadata": {},
   "outputs": [],
   "source": [
    "# dropping any str formats in the barometer column\n",
    "for i in range (len(comp)):\n",
    "    comp[i]['BAROMETER']=comp[i]['BAROMETER'].apply(lambda x: np.NaN if type(x)==str else x)"
   ]
  },
  {
   "cell_type": "code",
   "execution_count": 64,
   "id": "8019ad2f",
   "metadata": {},
   "outputs": [],
   "source": [
    "# checking every dataframe and if their barometers are in mm converting it to inches\n",
    "for i in range (len(comp)):\n",
    "    comp[i]['BAROMETER']=comp[i]['BAROMETER'].apply(lambda x: x/25.4 if np.mean(comp[i]['BAROMETER'].value_counts().index)>100 else x)"
   ]
  },
  {
   "cell_type": "markdown",
   "id": "d551b2c4",
   "metadata": {},
   "source": [
    "# LATITUDE AND LONGITUDE"
   ]
  },
  {
   "cell_type": "code",
   "execution_count": 65,
   "id": "fad3f4b6",
   "metadata": {},
   "outputs": [],
   "source": [
    "column=uniq_cols(comp)\n",
    "column.sort()\n"
   ]
  },
  {
   "cell_type": "code",
   "execution_count": 66,
   "id": "1a92410a",
   "metadata": {},
   "outputs": [],
   "source": [
    "long=[]\n",
    "lat=[]\n",
    "\n",
    "for df in range(len(comp)):\n",
    "    if \"LATITUDE\" in comp[df].columns or \"LATITUDE DR\" in comp[df].columns :\n",
    "        lat.append(df)\n",
    "        \n",
    "    if \"LONGITUDE\" in comp[df].columns or \"LONGITUDE DR\" in comp[df].columns :\n",
    "        long.append(df)"
   ]
  },
  {
   "cell_type": "code",
   "execution_count": 67,
   "id": "12229fd0",
   "metadata": {},
   "outputs": [
    {
     "data": {
      "text/plain": [
       "46.206896551724135"
      ]
     },
     "execution_count": 67,
     "metadata": {},
     "output_type": "execute_result"
    }
   ],
   "source": [
    "np.mean(long)"
   ]
  },
  {
   "cell_type": "code",
   "execution_count": 68,
   "id": "eaba2f5c",
   "metadata": {},
   "outputs": [
    {
     "data": {
      "text/plain": [
       "45.813559322033896"
      ]
     },
     "execution_count": 68,
     "metadata": {},
     "output_type": "execute_result"
    }
   ],
   "source": [
    "np.mean(lat)"
   ]
  },
  {
   "cell_type": "code",
   "execution_count": 69,
   "id": "34e0b587",
   "metadata": {},
   "outputs": [
    {
     "name": "stdout",
     "output_type": "stream",
     "text": [
      "23\n"
     ]
    }
   ],
   "source": [
    "for i in lat:\n",
    "    if i not in long:\n",
    "        print(i)"
   ]
  },
  {
   "cell_type": "code",
   "execution_count": 70,
   "id": "b1bd6749",
   "metadata": {},
   "outputs": [],
   "source": [
    "# since the latitude for comp[23] is all nan we should add longitude to this dataframe \n",
    "#and set it to nan as well\n",
    "comp[23]['LONGITUDE']=np.NaN\n",
    "comp[23]['N/S']=np.NaN\n",
    "comp[23]['E/W']=np.NAN"
   ]
  },
  {
   "cell_type": "code",
   "execution_count": 71,
   "id": "0391408f",
   "metadata": {},
   "outputs": [],
   "source": [
    "nolat=[]\n",
    "for df in range(len(comp)):\n",
    "    if \"LATITUDE\" not in comp[df].columns:\n",
    "        nolat.append(df)"
   ]
  },
  {
   "cell_type": "code",
   "execution_count": 72,
   "id": "d9810299",
   "metadata": {},
   "outputs": [],
   "source": [
    "no_lat=[]\n",
    "for df in nolat:\n",
    "    no_lat.append(comp[df])"
   ]
  },
  {
   "cell_type": "code",
   "execution_count": 73,
   "id": "fc0ebd04",
   "metadata": {},
   "outputs": [],
   "source": [
    "for df in lat:\n",
    "    if 'LATITUDE' in comp[df]:\n",
    "        comp[df]['LATITUDE']=comp[df]['LATITUDE'].apply(lambda x: np.NaN if type(x)==str else x)\n",
    "        comp[df]['LONGITUDE']=comp[df]['LONGITUDE'].apply(lambda x: np.NaN if type(x)==str else x)\n",
    "    \n",
    "    else:\n",
    "        comp[df]['LATITUDE DR']=comp[df]['LATITUDE DR'].apply(lambda x: np.NaN if type(x)==str else x)\n",
    "        comp[df]['LONGITUDE DR']=comp[df]['LONGITUDE DR'].apply(lambda x: np.NaN if type(x)==str else x)"
   ]
  },
  {
   "cell_type": "code",
   "execution_count": 74,
   "id": "9c97cae6",
   "metadata": {},
   "outputs": [],
   "source": [
    "for df in lat:\n",
    "    if 'LATITUDE' in comp[df]:\n",
    "        comp[df]['LATITUDE']=comp[df].apply(lambda x:-x['LATITUDE'] if x['N/S']=='S' else x['LATITUDE'],axis=1)\n",
    "        comp[df]['LONGITUDE']=comp[df].apply(lambda x:-x['LONGITUDE'] if x['E/W']=='W' else x['LONGITUDE'],axis=1)\n",
    "    else:\n",
    "        comp[df]['LATITUDE DR']=comp[df].apply(lambda x:-x['LATITUDE DR'] if x['N/S']=='S' else x['LATITUDE DR'],axis=1)\n",
    "        comp[df]['LONGITUDE DR']=comp[df].apply(lambda x:-x['LONGITUDE DR'] if x['E/W']=='W' else x['LONGITUDE DR'],axis=1)\n",
    "        "
   ]
  },
  {
   "cell_type": "code",
   "execution_count": 75,
   "id": "5d569119",
   "metadata": {},
   "outputs": [],
   "source": [
    "for df in range (len (comp)):\n",
    "    if 'LATITUDES' in comp[df].columns:\n",
    "        comp[df].drop('LATITUDES',axis=1, inplace=True)"
   ]
  },
  {
   "cell_type": "code",
   "execution_count": 76,
   "id": "379c71fe",
   "metadata": {},
   "outputs": [],
   "source": [
    "comp[85].rename(columns={'LATITUDE DR': 'LATITUDE'}, inplace=True)\n",
    "comp[85].rename(columns={'LONGITUDE DR': 'LONGITUDE'}, inplace=True)\n"
   ]
  },
  {
   "cell_type": "code",
   "execution_count": 77,
   "id": "869ea747",
   "metadata": {},
   "outputs": [],
   "source": [
    "for df in range(len(comp)):\n",
    "    if \"LATITUDE\"  not in comp[df].columns:\n",
    "        comp[df][\"LATITUDE\"]=np.NaN\n",
    "        comp[df][\"LONGITUDE\"]=np.NaN"
   ]
  },
  {
   "cell_type": "markdown",
   "id": "bb1efb4a",
   "metadata": {},
   "source": [
    "# Temperature adjustment"
   ]
  },
  {
   "cell_type": "code",
   "execution_count": 78,
   "id": "0bf7597c",
   "metadata": {},
   "outputs": [],
   "source": [
    "# figuered out comp[3] and comp[8] are the same so I remove one of them at the end of cleaning\n"
   ]
  },
  {
   "cell_type": "code",
   "execution_count": 79,
   "id": "2383a6ec",
   "metadata": {},
   "outputs": [],
   "source": [
    "def temp_uniq(comp):\n",
    "    column=uniq_cols(comp)\n",
    "    \n",
    "    t = re.compile(\"THER*\")\n",
    "    ther_list = set(filter(t.search,column))\n",
    "    ther_list\n",
    "\n",
    "    te = re.compile(\"TEMP*\")\n",
    "    temp_list = set(filter(te.search,column))\n",
    "    temp_list\n",
    "    return set.union(temp_list,ther_list)\n",
    "\n"
   ]
  },
  {
   "cell_type": "code",
   "execution_count": 80,
   "id": "c4d27cc2",
   "metadata": {},
   "outputs": [],
   "source": [
    "for df in range (len(comp)):\n",
    "    if 'AIR TEMP' in comp[df]:\n",
    "        if df==2 or df==7:\n",
    "            comp[df].drop('WATER TEMP',axis=1, inplace=True) \n",
    "            comp[df].rename(columns={'AIR TEMP': 'THERMOMETER'}, inplace=True)\n",
    "        \n",
    "        elif df==26:\n",
    "            comp[df].rename(columns={'AIR TEMP': 'THERMOMETER'}, inplace=True)\n",
    "            comp[df].drop('SEA',axis=1, inplace=True) \n",
    "    \n",
    "        elif df==59:\n",
    "            comp[df].drop('AIR TEMP',axis=1, inplace=True) \n",
    "            \n",
    "        elif df==76:\n",
    "            comp[df].rename(columns={'ATT.THERM': 'THERMOMETER'}, inplace=True)\n",
    "            comp[df].drop('AIR TEMP',axis=1, inplace=True)\n",
    "            comp[df].drop('SEA TEMP',axis=1, inplace=True)\n",
    "\n",
    "        \n",
    "        elif df==88:\n",
    "            comp[df].rename(columns={'THERM.': 'THERMOMETER'}, inplace=True)\n",
    "            comp[df].drop('ATT.THERM',axis=1, inplace=True)\n",
    "            comp[df].drop('AIR TEMP',axis=1, inplace=True)\n",
    "            comp[df].drop('SEA TEMP',axis=1, inplace=True)"
   ]
  },
  {
   "cell_type": "code",
   "execution_count": 81,
   "id": "d955d6fb",
   "metadata": {},
   "outputs": [],
   "source": [
    "for df in range (len(comp)):\n",
    "    if 'AIR TEMPERATURE' in comp[df]:\n",
    "        if df==38:\n",
    "            comp[df].rename(columns={'AIR TEMPERATURE': 'THERMOMETER'}, inplace=True)\n",
    "            comp[df].drop('WATER TEMPERATURE',axis=1, inplace=True)\n",
    "            comp[df].drop('ATTACHED THERMOMETER',axis=1, inplace=True)\n",
    "            \n",
    "        elif df==67:\n",
    "            comp[df].rename(columns={'AIR TEMPERATURE': 'THERMOMETER'}, inplace=True)\n",
    "        \n",
    "        elif df==15:\n",
    "            comp[df].rename(columns={'AIR TEMPERATURE': 'THERMOMETER'}, inplace=True)\n",
    "            comp[df].drop('SEA TEMP',axis=1, inplace=True)\n",
    "        \n",
    "        else:\n",
    "            comp[df].rename(columns={'AIR TEMPERATURE': 'THERMOMETER'}, inplace=True)\n",
    "            comp[df].drop('SEA TEMPERATURE',axis=1, inplace=True)"
   ]
  },
  {
   "cell_type": "code",
   "execution_count": 82,
   "id": "70c69446",
   "metadata": {},
   "outputs": [],
   "source": [
    "for df in range (len(comp)):\n",
    "    if 'AIR TEMPERATURE AT:' in comp[df]:\n",
    "        comp[df].rename(columns={'AIR TEMPERATURE AT:': 'THERMOMETER'}, inplace=True)\n",
    "        comp[df].drop('SEA TEMPERATURE AT:',axis=1, inplace=True)"
   ]
  },
  {
   "cell_type": "code",
   "execution_count": 83,
   "id": "eb1e9f71",
   "metadata": {},
   "outputs": [],
   "source": [
    "for df in range (len(comp)):\n",
    "    if 'ATT THERM' in comp[df]:\n",
    "        comp[df].rename(columns={'ATT THERM': 'THERMOMETER'}, inplace=True)\n"
   ]
  },
  {
   "cell_type": "code",
   "execution_count": 84,
   "id": "f2a34d4b",
   "metadata": {},
   "outputs": [],
   "source": [
    "for df in range (len(comp)):\n",
    "    if 'ATT.THERM' in comp[df]:\n",
    "        comp[df].rename(columns={'ATT.THERM': 'THERMOMETER'}, inplace=True)\n",
    "        comp[df].drop('TEMP.CAP.',axis=1, inplace=True)\n",
    "        comp[df].drop('TEMP.SEA',axis=1, inplace=True)\n",
    "        comp[df].drop('TEMP.AIR',axis=1, inplace=True)\n",
    "        comp[df].drop('TEMP.WHEEL',axis=1, inplace=True)"
   ]
  },
  {
   "cell_type": "code",
   "execution_count": 85,
   "id": "1e3b569f",
   "metadata": {},
   "outputs": [],
   "source": [
    "for df in range (len(comp)):\n",
    "    if 'DRY AND WET THERMOMETERS, ASPIRATED' in comp[df]:\n",
    "        comp[df].rename(columns={np.nan:'YEAR'},inplace=True)\n",
    "        comp[df].rename(columns={'DRY AND WET THERMOMETERS, ASPIRATED':'THERMOMETER'},inplace=True)\n",
    "        comp[df].drop('DRY AND WET THERMOMETERS, FREE',axis=1, inplace=True)"
   ]
  },
  {
   "cell_type": "code",
   "execution_count": 86,
   "id": "5c07af85",
   "metadata": {},
   "outputs": [],
   "source": [
    "for df in range (len(comp)):\n",
    "    if 'EXTERNAL THERMOMETERS' in comp[df]:\n",
    "        comp[df].rename(columns={'EXTERNAL THERMOMETERS':'THERMOMETER'},inplace=True)\n",
    "       \n"
   ]
  },
  {
   "cell_type": "code",
   "execution_count": 87,
   "id": "117d129d",
   "metadata": {},
   "outputs": [],
   "source": [
    "for df in range (len(comp)):\n",
    "    if 'MEAN TEMPERATURE' in comp[df]:\n",
    "        comp[df].rename(columns={'MEAN TEMPERATURE':'THERMOMETER'},inplace=True)\n",
    "        comp[df].drop('TEMPERATURE 1',axis=1, inplace=True)\n",
    "        comp[df].drop('TEMPERATURE 2',axis=1, inplace=True)"
   ]
  },
  {
   "cell_type": "code",
   "execution_count": 88,
   "id": "7b78195c",
   "metadata": {},
   "outputs": [],
   "source": [
    "for df in range (len(comp)):\n",
    "    if 'SEA TEMP(F)' in comp[df]:\n",
    "        comp[df].rename(columns={'SEA TEMP(F)':'THERMOMETER'},inplace=True)"
   ]
  },
  {
   "cell_type": "code",
   "execution_count": 89,
   "id": "d6da0e40",
   "metadata": {},
   "outputs": [],
   "source": [
    "for df in range (len(comp)):\n",
    "    if 'SEA TEMP.' in comp[df]:\n",
    "        comp[df].drop('THERMOMETER',axis=1, inplace=True)\n",
    "        comp[df].rename(columns={'SEA TEMP.':'THERMOMETER'},inplace=True)"
   ]
  },
  {
   "cell_type": "code",
   "execution_count": 90,
   "id": "fb7ec269",
   "metadata": {},
   "outputs": [],
   "source": [
    "for df in range (len(comp)):\n",
    "    if 'SEA TEMPERATURE' in comp[df]:\n",
    "        comp[df].rename(columns={'SEA TEMPERATURE':'THERMOMETER'},inplace=True)"
   ]
  },
  {
   "cell_type": "code",
   "execution_count": 91,
   "id": "1e1a7184",
   "metadata": {},
   "outputs": [],
   "source": [
    "for df in range (len(comp)):\n",
    "    if 'SYMPIESOMETER TEMPERATURE' in comp[df]:\n",
    "        comp[df].rename(columns={'TEMPERATURE AIR':'THERMOMETER'},inplace=True)\n",
    "        comp[df].drop('TEMPERATURE SEA',axis=1, inplace=True)\n",
    "        comp[df].drop('SYMPIESOMETER TEMPERATURE',axis=1, inplace=True)\n"
   ]
  },
  {
   "cell_type": "code",
   "execution_count": 92,
   "id": "6b061b94",
   "metadata": {},
   "outputs": [],
   "source": [
    "for df in range (len(comp)):\n",
    "    if 'TEMPERATURE (C)' in comp[df]:\n",
    "        comp[df].rename(columns={'TEMPERATURE (C)':'THERMOMETER'},inplace=True)"
   ]
  },
  {
   "cell_type": "code",
   "execution_count": 93,
   "id": "da4ec61c",
   "metadata": {},
   "outputs": [],
   "source": [
    "for df in range (len(comp)):\n",
    "    if 'TEMPERATURE (F)' in comp[df]:\n",
    "        comp[df].rename(columns={'TEMPERATURE ©':'THERMOMETER'},inplace=True)\n",
    "        comp[df].drop('TEMPERATURE (F)',axis=1, inplace=True)\n"
   ]
  },
  {
   "cell_type": "code",
   "execution_count": 94,
   "id": "5a771ae5",
   "metadata": {},
   "outputs": [],
   "source": [
    "for df in range (len(comp)):\n",
    "    if 'TEMPERATURE AIR' in comp[df]:\n",
    "        comp[df].rename(columns={'TEMPERATURE AIR':'THERMOMETER'},inplace=True)\n",
    "        comp[df].drop('TEMPERATURE SEA',axis=1, inplace=True)\n",
    "           "
   ]
  },
  {
   "cell_type": "code",
   "execution_count": 95,
   "id": "2ec86c63",
   "metadata": {},
   "outputs": [],
   "source": [
    "for df in range (len(comp)):\n",
    "    if 'TEMPERATURE IN SHADE 8h' in comp[df]:\n",
    "        comp[df].rename(columns={'TEMPERATURE IN SHADE 8h':'THERMOMETER'},inplace=True)\n",
    "        comp[df].drop('TEMPERATURE IN SHADE Sunset',axis=1, inplace=True)"
   ]
  },
  {
   "cell_type": "code",
   "execution_count": 96,
   "id": "fc36d40e",
   "metadata": {},
   "outputs": [],
   "source": [
    "for df in range (len(comp)):\n",
    "    if 'TEMPERATURE MAX' in comp[df]:\n",
    "        comp[df]['THERMOMETER']=comp[df].apply(lambda x: (x['TEMPERATURE MAX']+x['TEMPERATURE MIN'])/2,axis=1)\n",
    "        comp[df].drop('TEMPERATURE MAX',axis=1, inplace=True)\n",
    "        comp[df].drop('TEMPERATURE MIN',axis=1, inplace=True)\n",
    "        comp[df].drop('TEMPERATURE SEA',axis=1, inplace=True)"
   ]
  },
  {
   "cell_type": "code",
   "execution_count": 97,
   "id": "083af975",
   "metadata": {},
   "outputs": [],
   "source": [
    "for df in range (len(comp)):\n",
    "    if 'TEMPERATURES' in comp[df]:\n",
    "        comp[df].rename(columns={'TEMPERATURES':'THERMOMETER'},inplace=True)\n"
   ]
  },
  {
   "cell_type": "code",
   "execution_count": 98,
   "id": "9282a122",
   "metadata": {},
   "outputs": [],
   "source": [
    "for df in range (len(comp)):\n",
    "    if 'THERM' in comp[df]:\n",
    "        comp[df].rename(columns={'THERM':'THERMOMETER'},inplace=True)\n",
    "\n",
    "        "
   ]
  },
  {
   "cell_type": "code",
   "execution_count": 99,
   "id": "dadd3a08",
   "metadata": {},
   "outputs": [],
   "source": [
    "for df in range (len(comp)):\n",
    "    if 'THERMOMETER  (IN SHADE)' in comp[df]:\n",
    "        comp[df].rename(columns={'THERMOMETER  (IN SHADE)':'THERMOMETER'},inplace=True)"
   ]
  },
  {
   "cell_type": "code",
   "execution_count": 100,
   "id": "4b613655",
   "metadata": {},
   "outputs": [],
   "source": [
    "for df in range (len(comp)):\n",
    "    if 'THERMOMETER ( C )' in comp[df]:\n",
    "        comp[df].rename(columns={'THERMOMETER ( C )':'THERMOMETER'},inplace=True)"
   ]
  },
  {
   "cell_type": "code",
   "execution_count": 101,
   "id": "62158c5a",
   "metadata": {},
   "outputs": [],
   "source": [
    "for df in range (len(comp)):\n",
    "    if 'THERMOMETER (C)' in comp[df]:\n",
    "        comp[df].columns.values[12]='THERMOMETER'\n",
    "        comp[df].rename(columns={'THERMOMETER (C)':'WASTE'},inplace=True)        "
   ]
  },
  {
   "cell_type": "code",
   "execution_count": 102,
   "id": "11705af6",
   "metadata": {},
   "outputs": [],
   "source": [
    "comp[5]=comp[5][['YEAR','MONTH','DAY','BAROMETER','THERMOMETER','LATITUDE','LONGITUDE']]"
   ]
  },
  {
   "cell_type": "code",
   "execution_count": 103,
   "id": "d0e27a81",
   "metadata": {},
   "outputs": [],
   "source": [
    "for df in range (len(comp)):\n",
    "    if 'THERMOMETER (F)' in comp[df]:\n",
    "        if df==85:\n",
    "            comp[df].rename(columns={'THERMOMETER (F)':'THERMOMETER'},inplace=True)\n",
    "            comp[df].drop('THERMOMETER ON DECK IN SHADE',axis=1, inplace=True)\n",
    "            \n",
    "        else:\n",
    "            comp[df].rename(columns={'THERMOMETER (F)':'THERMOMETER'},inplace=True)"
   ]
  },
  {
   "cell_type": "code",
   "execution_count": 104,
   "id": "84db2af0",
   "metadata": {},
   "outputs": [],
   "source": [
    "for df in range (len(comp)):\n",
    "    if 'THERMOMETER (F) MAX 15h' in comp[df]:\n",
    "        comp[df]['THERMOMETER']=comp[df].apply(lambda x: (x['THERMOMETER (F) MAX 9h']+x['THERMOMETER (F) MAX 15h']+x['THERMOMETER (F) MIN 9h'])/3,axis=1)\n",
    "        comp[df].drop('THERMOMETER (F) MAX 15h',axis=1, inplace=True)\n",
    "        comp[df].drop('THERMOMETER (F) MAX 9h',axis=1, inplace=True)\n",
    "        comp[df].drop('THERMOMETER (F) MIN 9h',axis=1, inplace=True)"
   ]
  },
  {
   "cell_type": "code",
   "execution_count": 105,
   "id": "95b3a88a",
   "metadata": {},
   "outputs": [],
   "source": [
    "for df in range (len(comp)):\n",
    "    if 'THERMOMETER (IN SHADE)' in comp[df]:\n",
    "        comp[df].rename(columns={'THERMOMETER (IN SHADE)':'THERMOMETER'},inplace=True)\n"
   ]
  },
  {
   "cell_type": "code",
   "execution_count": 106,
   "id": "d4f796da",
   "metadata": {},
   "outputs": [],
   "source": [
    "for df in range (len(comp)):\n",
    "    if 'THERMOMETER (UNDER COVER) ATTACHED ' in comp[df]:\n",
    "        comp[df]['THERMOMETER']=comp[df].apply(lambda x: (x['THERMOMETER (UNDER COVER) ATTACHED ']+x['THERMOMETER (UNDER COVER) DETACHED'])/2,axis=1)\n",
    "        comp[df].drop('THERMOMETER (UNDER COVER) ATTACHED ',axis=1, inplace=True)\n",
    "        comp[df].drop('THERMOMETER (UNDER COVER) DETACHED',axis=1, inplace=True)"
   ]
  },
  {
   "cell_type": "code",
   "execution_count": 107,
   "id": "bf926e94",
   "metadata": {},
   "outputs": [],
   "source": [
    "for df in range (len(comp)):\n",
    "    if 'THERMOMETER (in shade)' in comp[df]:\n",
    "        comp[df].rename(columns={'THERMOMETER (in shade)':'THERMOMETER'},inplace=True)"
   ]
  },
  {
   "cell_type": "code",
   "execution_count": 108,
   "id": "04d5227a",
   "metadata": {},
   "outputs": [],
   "source": [
    "for df in range (len(comp)):\n",
    "    if 'THERMOMETER 10h' in comp[df]:\n",
    "        comp[df]['THERMOMETER']=comp[df].apply(lambda x: (x['THERMOMETER 10h']+x['THERMOMETER 22h'])/2,axis=1)\n",
    "        comp[df].drop('THERMOMETER 10h',axis=1, inplace=True)\n",
    "        comp[df].drop('THERMOMETER 22h',axis=1, inplace=True)\n",
    "        "
   ]
  },
  {
   "cell_type": "code",
   "execution_count": 109,
   "id": "a58a7b80",
   "metadata": {},
   "outputs": [],
   "source": [
    "for df in range (len(comp)):\n",
    "    if 'THERMOMETER 2 P.M.' in comp[df]:\n",
    "        comp[df].rename(columns={'THERMOMETER DECK':'THERMOMETER'},inplace=True)\n",
    "        comp[df].drop('THERMOMETER 6 A.M.',axis=1, inplace=True)\n",
    "        comp[df].drop('THERMOMETER 2 P.M.',axis=1, inplace=True)\n",
    "        \n",
    "            "
   ]
  },
  {
   "cell_type": "code",
   "execution_count": 110,
   "id": "6adfe2fa",
   "metadata": {},
   "outputs": [],
   "source": [
    "for df in range (len(comp)):\n",
    "    if 'THERMOMETER 3 P.M.' in comp[df]:\n",
    "        comp[df].rename(columns={'THERMOMETER DECK':'THERMOMETER'},inplace=True)\n",
    "        comp[df].drop('THERMOMETER 9 A.M.',axis=1, inplace=True)\n",
    "        comp[df].drop('THERMOMETER 3 P.M.',axis=1, inplace=True)"
   ]
  },
  {
   "cell_type": "code",
   "execution_count": 111,
   "id": "bd154568",
   "metadata": {},
   "outputs": [],
   "source": [
    "for df in range (len(comp)):\n",
    "    if 'THERMOMETER AIR' in comp[df]:\n",
    "        if df==24:\n",
    "            comp[df].rename(columns={'THERMOMETER AIR':'THERMOMETER'},inplace=True)\n",
    "            comp[df].drop('THERMOMETER ATTACHED',axis=1, inplace=True)\n",
    "            \n",
    "        else:\n",
    "            comp[df]['THERMOMETER']=comp[df].apply(lambda x: (x['THERMOMETER ATTACHED']+x['THERMOMETER AIR']+x['THERMOMETER WET'])/3,axis=1)\n",
    "            comp[df].drop('THERMOMETER ATTACHED',axis=1, inplace=True)\n",
    "            comp[df].drop('THERMOMETER AIR',axis=1, inplace=True)\n",
    "            comp[df].drop('THERMOMETER WET',axis=1, inplace=True)\n",
    "\n",
    "            "
   ]
  },
  {
   "cell_type": "code",
   "execution_count": 112,
   "id": "eb3e30f4",
   "metadata": {},
   "outputs": [],
   "source": [
    "for df in range (len(comp)):\n",
    "    if 'THERMOMETER IN STERN GALLEY IN SHADE' in comp[df]:\n",
    "        comp[df]['THERMOMETER']=comp[df].apply(lambda x: (x['THERMOMETER TIMEKEEPERS']+x['THERMOMETER IN STERN GALLEY IN SHADE'])/2,axis=1)\n",
    "        comp[df].drop('THERMOMETER TIMEKEEPERS',axis=1, inplace=True)\n",
    "        comp[df].drop('THERMOMETER IN STERN GALLEY IN SHADE',axis=1, inplace=True)"
   ]
  },
  {
   "cell_type": "code",
   "execution_count": 113,
   "id": "5cffebfb",
   "metadata": {},
   "outputs": [],
   "source": [
    "for df in range (len(comp)):\n",
    "    if 'THERMOMETER MAX' in comp[df]:\n",
    "        comp[df]['THERMOMETER MAX']=comp[df]['THERMOMETER MAX'].apply(lambda x: np.NaN if type(x)==str else x)\n",
    "        comp[df]['THERMOMETER MIN']=comp[df]['THERMOMETER MIN'].apply(lambda x: np.NaN if type(x)==str else x)\n",
    "        comp[df]['THERMOMETER']=comp[df].apply(lambda x: (x['THERMOMETER MAX']+x['THERMOMETER MIN'])/2,axis=1)\n",
    "        comp[df].drop('THERMOMETER MAX',axis=1, inplace=True)\n",
    "        comp[df].drop('THERMOMETER MIN',axis=1, inplace=True)\n",
    "        \n",
    "        "
   ]
  },
  {
   "cell_type": "code",
   "execution_count": 114,
   "id": "1d1c04f7",
   "metadata": {},
   "outputs": [],
   "source": [
    "for df in range (len(comp)):\n",
    "    if 'THERMOMETER( C)' in comp[df]:\n",
    "        comp[df].rename(columns={'THERMOMETER( C)':'THERMOMETER'},inplace=True)\n",
    "        comp[df].drop('THERMOMETER(F)',axis=1, inplace=True)"
   ]
  },
  {
   "cell_type": "code",
   "execution_count": 115,
   "id": "95aa9b01",
   "metadata": {},
   "outputs": [],
   "source": [
    "for df in range (len(comp)):\n",
    "    if 'THERMOMETER(F)' in comp[df]:\n",
    "        comp[df].rename(columns={'THERMOMETER(F)':'THERMOMETER'},inplace=True)\n"
   ]
  },
  {
   "cell_type": "code",
   "execution_count": 116,
   "id": "54f34b67",
   "metadata": {},
   "outputs": [],
   "source": [
    "for df in range (len(comp)):\n",
    "    if 'THERMOMETER©' in comp[df]:\n",
    "        comp[df].rename(columns={'THERMOMETER©':'THERMOMETER'},inplace=True)\n"
   ]
  },
  {
   "cell_type": "code",
   "execution_count": 117,
   "id": "75cc467d",
   "metadata": {},
   "outputs": [],
   "source": [
    "for df in range (len(comp)):\n",
    "    if 'WEATHER' in comp[df]:\n",
    "        comp[df].rename(columns={'WEATHER':'THERMOMETER'},inplace=True)"
   ]
  },
  {
   "cell_type": "code",
   "execution_count": 118,
   "id": "42c56513",
   "metadata": {},
   "outputs": [],
   "source": [
    "for df in range (len(comp)):\n",
    "    if 'THERMOMETER' not in comp[df]:\n",
    "        comp[df]['THERMOMETER']=np.NaN"
   ]
  },
  {
   "cell_type": "code",
   "execution_count": 119,
   "id": "fc0e20c6",
   "metadata": {},
   "outputs": [],
   "source": [
    "comp[17]=comp[17].loc[:,~comp[17].columns.duplicated()]"
   ]
  },
  {
   "cell_type": "code",
   "execution_count": 120,
   "id": "675978fc",
   "metadata": {},
   "outputs": [],
   "source": [
    "comp[0]['THERMOMETER']=np.NaN"
   ]
  },
  {
   "cell_type": "code",
   "execution_count": 121,
   "id": "13bb1f0d",
   "metadata": {},
   "outputs": [],
   "source": [
    "for df in range (len(comp)):\n",
    "    comp[df]['THERMOMETER']=comp[df]['THERMOMETER'].apply(lambda x: np.NaN if type(x)==str else x)\n",
    "            "
   ]
  },
  {
   "cell_type": "code",
   "execution_count": 122,
   "id": "6c24b9a3",
   "metadata": {},
   "outputs": [],
   "source": [
    "for df in range (len(comp)):\n",
    "    comp[df]['THERMOMETER']=comp[df]['THERMOMETER'].apply(lambda x: (x-32)*(5/9) if np.mean(comp[df]['THERMOMETER'].value_counts().index)>35 else x)\n",
    "    "
   ]
  },
  {
   "cell_type": "code",
   "execution_count": 123,
   "id": "0f03cc36",
   "metadata": {},
   "outputs": [],
   "source": [
    "for df in comp:\n",
    "    df.drop([0,1,2], axis=0, inplace=True)"
   ]
  },
  {
   "cell_type": "code",
   "execution_count": 124,
   "id": "d4e9fd25",
   "metadata": {},
   "outputs": [],
   "source": [
    "for df in comp:\n",
    "    df.reset_index(inplace=True)"
   ]
  },
  {
   "cell_type": "markdown",
   "id": "bcf8584e",
   "metadata": {},
   "source": [
    "# YEAR , MONTH,DAY"
   ]
  },
  {
   "cell_type": "code",
   "execution_count": 125,
   "id": "9fc70020",
   "metadata": {},
   "outputs": [],
   "source": [
    "for df in range (len(comp)):\n",
    "    if 'YEAR' not in comp[df]:\n",
    "        comp[df]['YEAR']=np.NaN"
   ]
  },
  {
   "cell_type": "code",
   "execution_count": 126,
   "id": "f7354234",
   "metadata": {},
   "outputs": [],
   "source": [
    "for df in range (len(comp)):\n",
    "    if 'MONTH' not in comp[df]:\n",
    "        comp[df]['MONTH']=np.NaN"
   ]
  },
  {
   "cell_type": "code",
   "execution_count": 127,
   "id": "e3457080",
   "metadata": {},
   "outputs": [],
   "source": [
    "for df in range (len(comp)):\n",
    "    if 'DAY' not in comp[df]:\n",
    "        comp[df]['DAY']=np.NaN"
   ]
  },
  {
   "cell_type": "markdown",
   "id": "7981aab8",
   "metadata": {},
   "source": [
    "# MERGING"
   ]
  },
  {
   "cell_type": "code",
   "execution_count": 128,
   "id": "d1bf4a10",
   "metadata": {},
   "outputs": [],
   "source": [
    "for df in range (len(comp)):\n",
    "    comp[df]=comp[df][['YEAR','MONTH','DAY','BAROMETER','THERMOMETER','LATITUDE','LONGITUDE']]"
   ]
  },
  {
   "cell_type": "code",
   "execution_count": 129,
   "id": "e340c6cd",
   "metadata": {},
   "outputs": [],
   "source": [
    "final_df=pd.concat(comp,axis=0)"
   ]
  },
  {
   "cell_type": "code",
   "execution_count": 130,
   "id": "d4b44b5a",
   "metadata": {},
   "outputs": [],
   "source": [
    "final_df.reset_index(inplace=True)"
   ]
  },
  {
   "cell_type": "code",
   "execution_count": 131,
   "id": "a30bcad8",
   "metadata": {},
   "outputs": [],
   "source": [
    "final_df.drop(columns=['index'],inplace=True)"
   ]
  },
  {
   "cell_type": "code",
   "execution_count": 132,
   "id": "0cb23ed6",
   "metadata": {},
   "outputs": [],
   "source": [
    "final_df.to_csv('final_df.csv')"
   ]
  }
 ],
 "metadata": {
  "kernelspec": {
   "display_name": "Python 3",
   "language": "python",
   "name": "python3"
  },
  "language_info": {
   "codemirror_mode": {
    "name": "ipython",
    "version": 3
   },
   "file_extension": ".py",
   "mimetype": "text/x-python",
   "name": "python",
   "nbconvert_exporter": "python",
   "pygments_lexer": "ipython3",
   "version": "3.8.8"
  }
 },
 "nbformat": 4,
 "nbformat_minor": 5
}
